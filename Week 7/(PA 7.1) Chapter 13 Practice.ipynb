{
 "cells": [
  {
   "cell_type": "code",
   "execution_count": 7,
   "metadata": {},
   "outputs": [],
   "source": [
    "import pandas as pd\n",
    "import numpy as np\n",
    "from sklearn.pipeline import Pipeline\n",
    "from sklearn.compose import make_column_selector, ColumnTransformer\n",
    "from sklearn.preprocessing import StandardScaler, OneHotEncoder, PolynomialFeatures\n",
    "from sklearn.linear_model import LinearRegression, Ridge, Lasso, ElasticNet \n",
    "from sklearn.model_selection import train_test_split, cross_val_score\n",
    "from sklearn.metrics import r2_score, mean_squared_error\n",
    "from plotnine import *"
   ]
  },
  {
   "cell_type": "code",
   "execution_count": 8,
   "metadata": {},
   "outputs": [],
   "source": [
    "ames = pd.read_csv(\"C:\\\\Users\\\\Tyler Clyde\\\\Documents\\\\GSB 544\\\\AmesHousing.csv\")\n"
   ]
  },
  {
   "cell_type": "markdown",
   "metadata": {},
   "source": [
    "Part 1"
   ]
  },
  {
   "cell_type": "code",
   "execution_count": 9,
   "metadata": {},
   "outputs": [
    {
     "data": {
      "text/plain": [
       "3511950654.701387"
      ]
     },
     "execution_count": 9,
     "metadata": {},
     "output_type": "execute_result"
    }
   ],
   "source": [
    "X = ames[[\"Gr Liv Area\", \"TotRms AbvGrd\"]]\n",
    "y = ames[\"SalePrice\"]\n",
    "\n",
    "X_train, X_test, y_train, y_test = train_test_split(X, y, random_state=42)\n",
    "\n",
    "ct = ColumnTransformer(\n",
    "  [\n",
    "    (\"standardize\", StandardScaler(), [\"Gr Liv Area\", \"TotRms AbvGrd\"])\n",
    "  ],\n",
    "  remainder = \"drop\"\n",
    ")\n",
    "\n",
    "\n",
    "lr_pipeline = Pipeline(\n",
    "  [(\"preprocessing\", ct),\n",
    "  (\"linear_regression\", LinearRegression())]\n",
    ")\n",
    "\n",
    "lr_fitted = lr_pipeline.fit(X_train, y_train)\n",
    "y_preds = lr_fitted.predict(X_test)\n",
    "mean_squared_error(y_preds, y_test)"
   ]
  },
  {
   "cell_type": "code",
   "execution_count": 10,
   "metadata": {},
   "outputs": [
    {
     "data": {
      "text/plain": [
       "3257922980.8219028"
      ]
     },
     "execution_count": 10,
     "metadata": {},
     "output_type": "execute_result"
    }
   ],
   "source": [
    "X = ames[[\"Gr Liv Area\", \"TotRms AbvGrd\", 'Bldg Type']]\n",
    "y = ames[\"SalePrice\"]\n",
    "\n",
    "X_train, X_test, y_train, y_test = train_test_split(X, y, random_state=42)\n",
    "\n",
    "ct = ColumnTransformer(\n",
    "  [\n",
    "    (\"dummify\", OneHotEncoder(sparse_output = False), [\"Bldg Type\"]),\n",
    "    (\"standardize\", StandardScaler(), [\"Gr Liv Area\", \"TotRms AbvGrd\"])\n",
    "  ],\n",
    "  remainder = \"drop\"\n",
    ")\n",
    "\n",
    "\n",
    "lr_pipeline = Pipeline(\n",
    "  [(\"preprocessing\", ct),\n",
    "  (\"linear_regression\", LinearRegression())]\n",
    ")\n",
    "\n",
    "lr_fitted = lr_pipeline.fit(X_train, y_train)\n",
    "y_preds = lr_fitted.predict(X_test)\n",
    "mean_squared_error(y_preds, y_test)"
   ]
  },
  {
   "cell_type": "code",
   "execution_count": 11,
   "metadata": {},
   "outputs": [
    {
     "data": {
      "text/plain": [
       "3243282090.489238"
      ]
     },
     "execution_count": 11,
     "metadata": {},
     "output_type": "execute_result"
    }
   ],
   "source": [
    "X = ames[[\"Gr Liv Area\", 'Bldg Type']]\n",
    "y = ames[\"SalePrice\"]\n",
    "\n",
    "\n",
    "X_train, X_test, y_train, y_test = train_test_split(X, y, random_state=42)\n",
    "\n",
    "\n",
    "encoder = OneHotEncoder(sparse_output=False, handle_unknown='ignore')\n",
    "X_train_encoded = encoder.fit_transform(X_train[['Bldg Type']])\n",
    "X_test_encoded = encoder.transform(X_test[['Bldg Type']])\n",
    "\n",
    "\n",
    "X_train_combined = np.concatenate([X_train_encoded, X_train[['Gr Liv Area']]], axis=1)\n",
    "X_test_combined = np.concatenate([X_test_encoded, X_test[['Gr Liv Area']]], axis=1)\n",
    "\n",
    "\n",
    "ct = ColumnTransformer(\n",
    "    transformers=[\n",
    "        (\"interaction\", PolynomialFeatures(interaction_only=True), [0, 1]),  \n",
    "    ],\n",
    "    remainder=\"passthrough\"\n",
    ")\n",
    "\n",
    "\n",
    "lr_pipeline = Pipeline([\n",
    "    (\"preprocessing\", ct),\n",
    "    (\"linear_regression\", LinearRegression())\n",
    "])\n",
    "\n",
    "lr_fitted = lr_pipeline.fit(X_train_combined, y_train)\n",
    "y_preds = lr_fitted.predict(X_test_combined)\n",
    "\n",
    "mean_squared_error(y_preds, y_test)"
   ]
  },
  {
   "cell_type": "code",
   "execution_count": 12,
   "metadata": {},
   "outputs": [
    {
     "data": {
      "text/plain": [
       "4615152521.8619995"
      ]
     },
     "execution_count": 12,
     "metadata": {},
     "output_type": "execute_result"
    }
   ],
   "source": [
    "\n",
    "X = ames[[\"TotRms AbvGrd\", 'Bldg Type']]\n",
    "y = ames[\"SalePrice\"]\n",
    "\n",
    "\n",
    "X_train, X_test, y_train, y_test = train_test_split(X, y, random_state=42)\n",
    "\n",
    "\n",
    "ct = ColumnTransformer(\n",
    "    transformers=[\n",
    "        (\"dummify\", OneHotEncoder(sparse_output=False), ['Bldg Type']),  \n",
    "        (\"polynomial\", PolynomialFeatures(degree=5, include_bias=False), [0])  \n",
    "    ],\n",
    "    remainder=\"passthrough\"\n",
    ")\n",
    "\n",
    "\n",
    "lr_pipeline = Pipeline([\n",
    "    (\"preprocessing\", ct),\n",
    "    (\"linear_regression\", LinearRegression())\n",
    "])\n",
    "\n",
    "\n",
    "lr_fitted = lr_pipeline.fit(X_train, y_train)\n",
    "y_preds = lr_fitted.predict(X_test)\n",
    "\n",
    "\n",
    "mean_squared_error(y_preds, y_test)\n"
   ]
  },
  {
   "cell_type": "markdown",
   "metadata": {},
   "source": [
    "Based on the above models, the 3rd model had the loweres MSE and thus performed the best."
   ]
  },
  {
   "cell_type": "markdown",
   "metadata": {},
   "source": [
    "Part 2"
   ]
  },
  {
   "cell_type": "code",
   "execution_count": 22,
   "metadata": {},
   "outputs": [
    {
     "data": {
      "text/plain": [
       "array([-56130.63127001, -53933.09830807, -53342.43375389, -56520.18909137,\n",
       "       -52744.44054367])"
      ]
     },
     "execution_count": 22,
     "metadata": {},
     "output_type": "execute_result"
    }
   ],
   "source": [
    "X = ames[[\"Gr Liv Area\", \"TotRms AbvGrd\"]]\n",
    "y = ames[\"SalePrice\"]\n",
    "\n",
    "X_train, X_test, y_train, y_test = train_test_split(X, y, random_state=42)\n",
    "\n",
    "ct = ColumnTransformer(\n",
    "  [\n",
    "    (\"standardize\", StandardScaler(), [\"Gr Liv Area\", \"TotRms AbvGrd\"])\n",
    "  ],\n",
    "  remainder = \"drop\"\n",
    ")\n",
    "\n",
    "\n",
    "lr_pipeline = Pipeline(\n",
    "  [(\"preprocessing\", ct),\n",
    "  (\"linear_regression\", LinearRegression())]\n",
    ")\n",
    "\n",
    "cross_val_score(lr_pipeline, X_train, y_train, cv=5, scoring='neg_root_mean_squared_error')"
   ]
  },
  {
   "cell_type": "code",
   "execution_count": 23,
   "metadata": {},
   "outputs": [
    {
     "data": {
      "text/plain": [
       "array([-54071.43462503, -52830.82795482, -51679.06516304, -54234.13328564,\n",
       "       -51683.54916464])"
      ]
     },
     "execution_count": 23,
     "metadata": {},
     "output_type": "execute_result"
    }
   ],
   "source": [
    "X = ames[[\"Gr Liv Area\", \"TotRms AbvGrd\", 'Bldg Type']]\n",
    "y = ames[\"SalePrice\"]\n",
    "\n",
    "X_train, X_test, y_train, y_test = train_test_split(X, y, random_state=42)\n",
    "\n",
    "ct = ColumnTransformer(\n",
    "  [\n",
    "    (\"dummify\", OneHotEncoder(sparse_output = False), [\"Bldg Type\"]),\n",
    "    (\"standardize\", StandardScaler(), [\"Gr Liv Area\", \"TotRms AbvGrd\"])\n",
    "  ],\n",
    "  remainder = \"drop\"\n",
    ")\n",
    "\n",
    "\n",
    "lr_pipeline = Pipeline(\n",
    "  [(\"preprocessing\", ct),\n",
    "  (\"linear_regression\", LinearRegression())]\n",
    ")\n",
    "\n",
    "cross_val_score(lr_pipeline, X_train, y_train, cv=5, scoring='neg_root_mean_squared_error')"
   ]
  },
  {
   "cell_type": "code",
   "execution_count": 28,
   "metadata": {},
   "outputs": [
    {
     "data": {
      "text/plain": [
       "array([-54250.32935233, -53461.62681198, -51920.53171949, -53788.84133768,\n",
       "       -52563.55181494])"
      ]
     },
     "execution_count": 28,
     "metadata": {},
     "output_type": "execute_result"
    }
   ],
   "source": [
    "X = ames[[\"Gr Liv Area\", 'Bldg Type']]\n",
    "y = ames[\"SalePrice\"]\n",
    "X_train, X_test, y_train, y_test = train_test_split(X, y, random_state=42)\n",
    "\n",
    "\n",
    "numeric_features = ['Gr Liv Area']\n",
    "categorical_features = ['Bldg Type']\n",
    "\n",
    "numeric_transformer = PolynomialFeatures(interaction_only=True)\n",
    "categorical_transformer = OneHotEncoder(sparse_output=False, handle_unknown='ignore')\n",
    "\n",
    "\n",
    "preprocessor = ColumnTransformer(\n",
    "    transformers=[\n",
    "        ('num', numeric_transformer, numeric_features),\n",
    "        ('cat', categorical_transformer, categorical_features)\n",
    "    ])\n",
    "\n",
    "\n",
    "lr_pipeline = Pipeline([\n",
    "    ('preprocessor', preprocessor),\n",
    "    ('linear_regression', LinearRegression())\n",
    "])\n",
    "\n",
    "\n",
    "cross_val_score(lr_pipeline, X_train, y_train, cv=5, scoring='neg_root_mean_squared_error')"
   ]
  },
  {
   "cell_type": "code",
   "execution_count": 29,
   "metadata": {},
   "outputs": [
    {
     "data": {
      "text/plain": [
       "array([-64617.57759205, -66825.73234598, -61967.40373356, -61772.06944238,\n",
       "       -64869.12626848])"
      ]
     },
     "execution_count": 29,
     "metadata": {},
     "output_type": "execute_result"
    }
   ],
   "source": [
    "X = ames['Gr Liv Area']\n",
    "y = ames[\"SalePrice\"]\n",
    "\n",
    "\n",
    "\n",
    "\n",
    "ct = ColumnTransformer(\n",
    "    transformers=[ \n",
    "        (\"polynomial\", PolynomialFeatures(degree=5, include_bias=False), [0])  \n",
    "    ],\n",
    "    remainder=\"passthrough\"\n",
    ")\n",
    "\n",
    "\n",
    "lr_pipeline = Pipeline([\n",
    "    (\"preprocessing\", ct),\n",
    "    (\"linear_regression\", LinearRegression())\n",
    "])\n",
    "\n",
    "cross_val_score(lr_pipeline, X_train, y_train, cv=5, scoring='neg_root_mean_squared_error')"
   ]
  },
  {
   "cell_type": "markdown",
   "metadata": {},
   "source": [
    "Based on the above models, model number 2 performed slightly better than model 3. It had the overall lowest MSE."
   ]
  },
  {
   "cell_type": "markdown",
   "metadata": {},
   "source": [
    "Part 3"
   ]
  },
  {
   "cell_type": "code",
   "execution_count": 46,
   "metadata": {},
   "outputs": [
    {
     "data": {
      "text/html": [
       "<div>\n",
       "<style scoped>\n",
       "    .dataframe tbody tr th:only-of-type {\n",
       "        vertical-align: middle;\n",
       "    }\n",
       "\n",
       "    .dataframe tbody tr th {\n",
       "        vertical-align: top;\n",
       "    }\n",
       "\n",
       "    .dataframe thead th {\n",
       "        text-align: right;\n",
       "    }\n",
       "</style>\n",
       "<table border=\"1\" class=\"dataframe\">\n",
       "  <thead>\n",
       "    <tr style=\"text-align: right;\">\n",
       "      <th></th>\n",
       "      <th>degrees</th>\n",
       "      <th>scores</th>\n",
       "    </tr>\n",
       "  </thead>\n",
       "  <tbody>\n",
       "    <tr>\n",
       "      <th>0</th>\n",
       "      <td>1</td>\n",
       "      <td>-56682.640357</td>\n",
       "    </tr>\n",
       "    <tr>\n",
       "      <th>1</th>\n",
       "      <td>2</td>\n",
       "      <td>-56598.192911</td>\n",
       "    </tr>\n",
       "    <tr>\n",
       "      <th>2</th>\n",
       "      <td>3</td>\n",
       "      <td>-55666.018799</td>\n",
       "    </tr>\n",
       "    <tr>\n",
       "      <th>3</th>\n",
       "      <td>4</td>\n",
       "      <td>-56058.000686</td>\n",
       "    </tr>\n",
       "    <tr>\n",
       "      <th>4</th>\n",
       "      <td>5</td>\n",
       "      <td>-58214.293300</td>\n",
       "    </tr>\n",
       "    <tr>\n",
       "      <th>5</th>\n",
       "      <td>6</td>\n",
       "      <td>-62623.658301</td>\n",
       "    </tr>\n",
       "    <tr>\n",
       "      <th>6</th>\n",
       "      <td>7</td>\n",
       "      <td>-72233.780350</td>\n",
       "    </tr>\n",
       "    <tr>\n",
       "      <th>7</th>\n",
       "      <td>8</td>\n",
       "      <td>-97088.994557</td>\n",
       "    </tr>\n",
       "    <tr>\n",
       "      <th>8</th>\n",
       "      <td>9</td>\n",
       "      <td>-149965.515741</td>\n",
       "    </tr>\n",
       "    <tr>\n",
       "      <th>9</th>\n",
       "      <td>10</td>\n",
       "      <td>-242581.507610</td>\n",
       "    </tr>\n",
       "  </tbody>\n",
       "</table>\n",
       "</div>"
      ],
      "text/plain": [
       "   degrees         scores\n",
       "0        1  -56682.640357\n",
       "1        2  -56598.192911\n",
       "2        3  -55666.018799\n",
       "3        4  -56058.000686\n",
       "4        5  -58214.293300\n",
       "5        6  -62623.658301\n",
       "6        7  -72233.780350\n",
       "7        8  -97088.994557\n",
       "8        9 -149965.515741\n",
       "9       10 -242581.507610"
      ]
     },
     "execution_count": 46,
     "metadata": {},
     "output_type": "execute_result"
    }
   ],
   "source": [
    "from sklearn.model_selection import GridSearchCV\n",
    "\n",
    "X = ames[\"Gr Liv Area\"]\n",
    "y = ames[\"SalePrice\"]\n",
    "X = X.values.reshape(-1, 1)\n",
    "\n",
    "ct = ColumnTransformer(\n",
    "  [\n",
    "    (\"polynomial\", PolynomialFeatures(), [0])\n",
    "  ],\n",
    "  remainder = \"drop\"\n",
    ")\n",
    "\n",
    "\n",
    "lr_pipeline = Pipeline(\n",
    "  [(\"preprocessing\", ct),\n",
    "  (\"linear_regression\", LinearRegression())]\n",
    ")\n",
    "\n",
    "degrees = {'preprocessing__polynomial__degree': np.arange(1, 11)}\n",
    "\n",
    "gscv = GridSearchCV(lr_pipeline, degrees, cv = 5, scoring='neg_root_mean_squared_error')\n",
    "\n",
    "gscv_fitted = gscv.fit(X, y)\n",
    "pd.DataFrame(data = {\"degrees\": np.arange(1, 11), \"scores\": gscv_fitted.cv_results_['mean_test_score']})"
   ]
  },
  {
   "cell_type": "code",
   "execution_count": 45,
   "metadata": {},
   "outputs": [
    {
     "data": {
      "text/html": [
       "<div>\n",
       "<style scoped>\n",
       "    .dataframe tbody tr th:only-of-type {\n",
       "        vertical-align: middle;\n",
       "    }\n",
       "\n",
       "    .dataframe tbody tr th {\n",
       "        vertical-align: top;\n",
       "    }\n",
       "\n",
       "    .dataframe thead th {\n",
       "        text-align: right;\n",
       "    }\n",
       "</style>\n",
       "<table border=\"1\" class=\"dataframe\">\n",
       "  <thead>\n",
       "    <tr style=\"text-align: right;\">\n",
       "      <th></th>\n",
       "      <th>degrees</th>\n",
       "      <th>scores</th>\n",
       "    </tr>\n",
       "  </thead>\n",
       "  <tbody>\n",
       "    <tr>\n",
       "      <th>0</th>\n",
       "      <td>1</td>\n",
       "      <td>-69576.124787</td>\n",
       "    </tr>\n",
       "    <tr>\n",
       "      <th>1</th>\n",
       "      <td>2</td>\n",
       "      <td>-69759.584431</td>\n",
       "    </tr>\n",
       "    <tr>\n",
       "      <th>2</th>\n",
       "      <td>3</td>\n",
       "      <td>-69347.503639</td>\n",
       "    </tr>\n",
       "    <tr>\n",
       "      <th>3</th>\n",
       "      <td>4</td>\n",
       "      <td>-69418.291750</td>\n",
       "    </tr>\n",
       "    <tr>\n",
       "      <th>4</th>\n",
       "      <td>5</td>\n",
       "      <td>-70014.990947</td>\n",
       "    </tr>\n",
       "    <tr>\n",
       "      <th>5</th>\n",
       "      <td>6</td>\n",
       "      <td>-73595.504267</td>\n",
       "    </tr>\n",
       "    <tr>\n",
       "      <th>6</th>\n",
       "      <td>7</td>\n",
       "      <td>-70811.277758</td>\n",
       "    </tr>\n",
       "    <tr>\n",
       "      <th>7</th>\n",
       "      <td>8</td>\n",
       "      <td>-88746.418724</td>\n",
       "    </tr>\n",
       "    <tr>\n",
       "      <th>8</th>\n",
       "      <td>9</td>\n",
       "      <td>-86298.707910</td>\n",
       "    </tr>\n",
       "    <tr>\n",
       "      <th>9</th>\n",
       "      <td>10</td>\n",
       "      <td>-983332.227694</td>\n",
       "    </tr>\n",
       "  </tbody>\n",
       "</table>\n",
       "</div>"
      ],
      "text/plain": [
       "   degrees         scores\n",
       "0        1  -69576.124787\n",
       "1        2  -69759.584431\n",
       "2        3  -69347.503639\n",
       "3        4  -69418.291750\n",
       "4        5  -70014.990947\n",
       "5        6  -73595.504267\n",
       "6        7  -70811.277758\n",
       "7        8  -88746.418724\n",
       "8        9  -86298.707910\n",
       "9       10 -983332.227694"
      ]
     },
     "execution_count": 45,
     "metadata": {},
     "output_type": "execute_result"
    }
   ],
   "source": [
    "X = ames['TotRms AbvGrd']\n",
    "y = ames[\"SalePrice\"]\n",
    "X = X.values.reshape(-1, 1)\n",
    "\n",
    "ct = ColumnTransformer(\n",
    "  [\n",
    "    (\"polynomial\", PolynomialFeatures(), [0])\n",
    "  ],\n",
    "  remainder = \"drop\"\n",
    ")\n",
    "\n",
    "\n",
    "lr_pipeline = Pipeline(\n",
    "  [(\"preprocessing\", ct),\n",
    "  (\"linear_regression\", LinearRegression())]\n",
    ")\n",
    "\n",
    "degrees = {'preprocessing__polynomial__degree': np.arange(1, 11)}\n",
    "\n",
    "gscv = GridSearchCV(lr_pipeline, degrees, cv = 5, scoring='neg_root_mean_squared_error')\n",
    "\n",
    "gscv_fitted = gscv.fit(X, y)\n",
    "pd.DataFrame(data = {\"degrees\": np.arange(1, 11), \"scores\": gscv_fitted.cv_results_['mean_test_score']})"
   ]
  },
  {
   "cell_type": "code",
   "execution_count": 44,
   "metadata": {},
   "outputs": [
    {
     "data": {
      "text/html": [
       "<div>\n",
       "<style scoped>\n",
       "    .dataframe tbody tr th:only-of-type {\n",
       "        vertical-align: middle;\n",
       "    }\n",
       "\n",
       "    .dataframe tbody tr th {\n",
       "        vertical-align: top;\n",
       "    }\n",
       "\n",
       "    .dataframe thead th {\n",
       "        text-align: right;\n",
       "    }\n",
       "</style>\n",
       "<table border=\"1\" class=\"dataframe\">\n",
       "  <thead>\n",
       "    <tr style=\"text-align: right;\">\n",
       "      <th></th>\n",
       "      <th>degrees</th>\n",
       "      <th>scores</th>\n",
       "    </tr>\n",
       "  </thead>\n",
       "  <tbody>\n",
       "    <tr>\n",
       "      <th>0</th>\n",
       "      <td>1</td>\n",
       "      <td>-79495.620568</td>\n",
       "    </tr>\n",
       "    <tr>\n",
       "      <th>1</th>\n",
       "      <td>2</td>\n",
       "      <td>-79495.620568</td>\n",
       "    </tr>\n",
       "    <tr>\n",
       "      <th>2</th>\n",
       "      <td>3</td>\n",
       "      <td>-79495.620568</td>\n",
       "    </tr>\n",
       "    <tr>\n",
       "      <th>3</th>\n",
       "      <td>4</td>\n",
       "      <td>-79495.620568</td>\n",
       "    </tr>\n",
       "    <tr>\n",
       "      <th>4</th>\n",
       "      <td>5</td>\n",
       "      <td>-79495.620568</td>\n",
       "    </tr>\n",
       "    <tr>\n",
       "      <th>5</th>\n",
       "      <td>6</td>\n",
       "      <td>-79495.620568</td>\n",
       "    </tr>\n",
       "    <tr>\n",
       "      <th>6</th>\n",
       "      <td>7</td>\n",
       "      <td>-79495.620568</td>\n",
       "    </tr>\n",
       "    <tr>\n",
       "      <th>7</th>\n",
       "      <td>8</td>\n",
       "      <td>-79495.620568</td>\n",
       "    </tr>\n",
       "    <tr>\n",
       "      <th>8</th>\n",
       "      <td>9</td>\n",
       "      <td>-79495.620568</td>\n",
       "    </tr>\n",
       "    <tr>\n",
       "      <th>9</th>\n",
       "      <td>10</td>\n",
       "      <td>-79495.620568</td>\n",
       "    </tr>\n",
       "  </tbody>\n",
       "</table>\n",
       "</div>"
      ],
      "text/plain": [
       "   degrees        scores\n",
       "0        1 -79495.620568\n",
       "1        2 -79495.620568\n",
       "2        3 -79495.620568\n",
       "3        4 -79495.620568\n",
       "4        5 -79495.620568\n",
       "5        6 -79495.620568\n",
       "6        7 -79495.620568\n",
       "7        8 -79495.620568\n",
       "8        9 -79495.620568\n",
       "9       10 -79495.620568"
      ]
     },
     "execution_count": 44,
     "metadata": {},
     "output_type": "execute_result"
    }
   ],
   "source": [
    "X = pd.get_dummies(ames[\"Bldg Type\"], prefix='Bldg Type')\n",
    "y = ames[\"SalePrice\"]\n",
    "\n",
    "ct = ColumnTransformer(\n",
    "  [\n",
    "    (\"polynomial\", PolynomialFeatures(), [0])\n",
    "  ],\n",
    "  remainder = \"drop\"\n",
    ")\n",
    "\n",
    "\n",
    "lr_pipeline = Pipeline(\n",
    "  [(\"preprocessing\", ct),\n",
    "  (\"linear_regression\", LinearRegression())]\n",
    ")\n",
    "\n",
    "degrees = {'preprocessing__polynomial__degree': np.arange(1, 11)}\n",
    "\n",
    "gscv = GridSearchCV(lr_pipeline, degrees, cv = 5, scoring='neg_root_mean_squared_error')\n",
    "\n",
    "gscv_fitted = gscv.fit(X, y)\n",
    "pd.DataFrame(data = {\"degrees\": np.arange(1, 11), \"scores\": gscv_fitted.cv_results_['mean_test_score']})"
   ]
  },
  {
   "cell_type": "markdown",
   "metadata": {},
   "source": [
    "Here, the first model performed the best with the lowest MSE. Since there is the issue of overfitting with large degree values, it may be better to use only the first few degrees for testing such as degrees 1 through 4. This keeps the possibility of overfitting lower than doing to the 10th degree."
   ]
  }
 ],
 "metadata": {
  "kernelspec": {
   "display_name": "base",
   "language": "python",
   "name": "python3"
  },
  "language_info": {
   "codemirror_mode": {
    "name": "ipython",
    "version": 3
   },
   "file_extension": ".py",
   "mimetype": "text/x-python",
   "name": "python",
   "nbconvert_exporter": "python",
   "pygments_lexer": "ipython3",
   "version": "3.11.5"
  }
 },
 "nbformat": 4,
 "nbformat_minor": 2
}
